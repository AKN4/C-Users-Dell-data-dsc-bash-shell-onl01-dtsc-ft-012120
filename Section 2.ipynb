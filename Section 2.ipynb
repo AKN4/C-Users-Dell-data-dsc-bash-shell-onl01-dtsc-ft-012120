{
 "cells": [
  {
   "cell_type": "markdown",
   "metadata": {},
   "source": [
    "## The Bash Shell\n",
    "\n",
    "pwd\n",
    "Remember, pwd stands for print working directory. This is essential to determine where you are within the file structure.\n",
    "\n",
    "cd\n",
    "From there, remember that cd stands for change directory. You can navigate to the home directory with cd alone, or go up one level with cd ...\n"
   ]
  },
  {
   "cell_type": "code",
   "execution_count": null,
   "metadata": {},
   "outputs": [],
   "source": []
  }
 ],
 "metadata": {
  "kernelspec": {
   "display_name": "Python 3",
   "language": "python",
   "name": "python3"
  },
  "language_info": {
   "codemirror_mode": {
    "name": "ipython",
    "version": 3
   },
   "file_extension": ".py",
   "mimetype": "text/x-python",
   "name": "python",
   "nbconvert_exporter": "python",
   "pygments_lexer": "ipython3",
   "version": "3.7.6"
  }
 },
 "nbformat": 4,
 "nbformat_minor": 4
}
